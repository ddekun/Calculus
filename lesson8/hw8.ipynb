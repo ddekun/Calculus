{
  "nbformat": 4,
  "nbformat_minor": 0,
  "metadata": {
    "colab": {
      "provenance": [],
      "authorship_tag": "ABX9TyO3FsDkr6v9PZt0uy2Chxpg",
      "include_colab_link": true
    },
    "kernelspec": {
      "name": "python3",
      "display_name": "Python 3"
    },
    "language_info": {
      "name": "python"
    }
  },
  "cells": [
    {
      "cell_type": "markdown",
      "metadata": {
        "id": "view-in-github",
        "colab_type": "text"
      },
      "source": [
        "<a href=\"https://colab.research.google.com/github/ddekun/Calculus/blob/lesson8/lesson8/hw8.ipynb\" target=\"_parent\"><img src=\"https://colab.research.google.com/assets/colab-badge.svg\" alt=\"Open In Colab\"/></a>"
      ]
    },
    {
      "cell_type": "markdown",
      "source": [
        "# Домашнее задание по теме «Производные функций нескольких переменных»."
      ],
      "metadata": {
        "id": "YHSfjkjItqAf"
      }
    },
    {
      "cell_type": "markdown",
      "source": [
        "### 1. Найти область определения функции.\n",
        "$$z=\\sqrt{1-x^3}+\\ln \\left(y^2-1\\right)$$\n",
        "$$\\sqrt{1-x^3}=z-\\ln \\left(y^2-1\\right)$$\n",
        "$$1-x^3=z^2-2z\\ln \\left(y^2-1\\right)+\\ln ^2\\left(y^2-1\\right)$$\n",
        "$$x=\\sqrt[3]{-z^2+2z\\ln \\left(y^2-1\\right)-\\ln ^2\\left(y^2-1\\right)+1}$$\n",
        "$$Интервальное представление: (-\\infty, 1]$$\n",
        "$$Обозначение построения множества: (x|x\\le 1)$$"
      ],
      "metadata": {
        "id": "vWhgZWbcugCk"
      }
    },
    {
      "cell_type": "markdown",
      "source": [
        "### 2. Найти производные 1-го порядка функции.\n",
        "$$z=\\left(1+\\frac{lnx}{lny}\\right)^3=3\\left(1+\\frac{\\ln \\left(x\\right)}{\\ln \\left(y\\right)}\\right)^2\\frac{d}{dx}\\left(1+\\frac{\\ln \\left(x\\right)}{\\ln \\left(y\\right)}\\right)=3\\left(1+\\frac{\\ln \\left(x\\right)}{\\ln \\left(y\\right)}\\right)^2\\frac{-x\\ln \\left(x\\right)\\frac{dy}{dx}+\\ln \\left(y\\right)y}{x\\ln ^2\\left(y\\right)y}=\\frac{3\\ln ^2\\left(xy\\right)\\left(-x\\ln \\left(x\\right)\\frac{dy}{dx}+\\ln \\left(y\\right)y\\right)}{x\\ln ^4\\left(y\\right)y}$$"
      ],
      "metadata": {
        "id": "PW-f1wstxwKQ"
      }
    },
    {
      "cell_type": "markdown",
      "source": [
        "### 3.Найти полный дифференциал функции в точке (1;1).\n",
        "$$z=\\sqrt{2xy+cos\\frac{x}{y}}=\\sqrt{3}$$"
      ],
      "metadata": {
        "id": "vGA8gm623F3D"
      }
    },
    {
      "cell_type": "markdown",
      "source": [
        "### 4.Исследовать на экстремум функцию\n",
        "$$\\mathrm{Допустим,\\:что}\\:\\left(x,\\:y\\right)=\\left(a,\\:b\\right)\\:\\mathrm{является\\:критической\\:точкой}\\:f\\left(x,\\:y\\right)\\mathrm{и}\\:D\\left(x,\\:y\\right)=\\frac{\\partial ^2f}{\\partial \\:x^2}\\frac{\\partial ^2f}{\\partial \\:y^2}-\\left(\\frac{\\partial ^2f}{\\partial \\:x\\partial \\:y}\\right)^2.\\:\\mathrm{Тогда,\\:}$$\n",
        "$$\\mathrm{Если}\\:D\\left(a,\\:b\\right)\\:>\\:0\\:\\mathrm{и}\\:\\frac{\\partial ^2f}{\\partial \\:x^2}<0,\\:\\mathrm{то\\:точка}\\:\\left(a,\\:b\\right)\\:\\mathrm{является\\:локальным\\:максимумом.}$$\n",
        "$$\\mathrm{Если}\\:\\:D\\left(a,\\:b\\right)\\:>\\:0\\:\\mathrm{и}\\:\\frac{\\partial ^2f}{\\partial \\:x^2}>0\\:,\\:\\mathrm{то\\:точка}\\:\\left(a,\\:b\\right)\\:\\mathrm{\\:является\\:локальным\\:минимумом.}$$\n",
        "$$\\mathrm{Если}\\:D\\left(a,\\:b\\right)<0,\\:\\mathrm{то\\:точка}\\:\\left(a,\\:b\\right)\\:\\mathrm{\\:является\\:седловой\\:точкой.}$$\n",
        "$$\\mathrm{Если}\\:D\\left(a,\\:b\\right)=0,\\:\\mathrm{то\\:проверка\\:не\\:удалась\\:и\\:точка}\\:\\left(a,\\:b\\right)\\:\\mathrm{может\\:оказаться\\:локальным\\:максимумом,\\:локальным\\:минимумом,\\:седлом\\:или\\:ни\\:тем,\\:ни\\:другим.}$$\n",
        "$$\\mathrm{минимальный}\\left(1,\\:4\\right)$$"
      ],
      "metadata": {
        "id": "5kBXkC9-5Rxf"
      }
    }
  ]
}