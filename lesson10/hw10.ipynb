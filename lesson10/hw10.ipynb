{
  "nbformat": 4,
  "nbformat_minor": 0,
  "metadata": {
    "colab": {
      "provenance": [],
      "authorship_tag": "ABX9TyMJ21L8FOJlN8BAFSfOQ1fm",
      "include_colab_link": true
    },
    "kernelspec": {
      "name": "python3",
      "display_name": "Python 3"
    },
    "language_info": {
      "name": "python"
    }
  },
  "cells": [
    {
      "cell_type": "markdown",
      "metadata": {
        "id": "view-in-github",
        "colab_type": "text"
      },
      "source": [
        "<a href=\"https://colab.research.google.com/github/ddekun/Calculus/blob/lesson10/lesson10/hw10.ipynb\" target=\"_parent\"><img src=\"https://colab.research.google.com/assets/colab-badge.svg\" alt=\"Open In Colab\"/></a>"
      ]
    },
    {
      "cell_type": "markdown",
      "source": [
        "# Введение в математический анализ\n",
        "## Задания к уроку №10"
      ],
      "metadata": {
        "id": "G5dAYPSjlrxo"
      }
    },
    {
      "cell_type": "markdown",
      "source": [
        "<br>$$1.\\int \\frac{x^4+x^2-6x}{x^3}dx=\\int \\frac{x^3+x-6}{x^2}dx=\\int \\:x+\\frac{1}{x}-\\frac{6}{x^2}dx=\\frac{x^2}{2}+\\ln \\left|x\\right|-\\left(-\\frac{6}{x}\\right)=\\frac{x^2}{2}+\\ln \\left|x\\right|+\\frac{6}{x}+C$$\n",
        "<br>$$2.\\int \\cos \\left(2x\\right)dx=\\int \\cos \\left(u\\right)\\frac{1}{2}du=\\frac{1}{2}\\cdot \\int \\cos \\left(u\\right)du=\\frac{1}{2}\\sin \\left(u\\right)=\\frac{1}{2}\\sin \\left(2x\\right)=\\frac{1}{2}\\sin \\left(2x\\right)+C$$\n",
        "<br>$$3.\\int \\frac{dx}{\\left(3x+2\\right)^4}=\\int \\frac{1}{\\left(3x+2\\right)^4}dx=\\frac{1}{3}\\cdot \\int \\frac{1}{u^4}du=\\frac{1}{3}\\left(-\\frac{1}{3u^3}\\right)=\\frac{1}{3}\\left(-\\frac{1}{3\\left(3x+2\\right)^3}\\right)=-\\frac{1}{9\\left(3x+2\\right)^3}=-\\frac{1}{9\\left(3x+2\\right)^3}+C$$\n",
        "<br>$$4.\\int \\frac{5x-1}{\\sqrt{4-x^2}}dx=\\int \\frac{5x}{\\sqrt{4-x^2}}-\\frac{1}{\\sqrt{4-x^2}}dx=\\int \\frac{5x}{\\sqrt{4-x^2}}dx-\\int \\frac{1}{\\sqrt{4-x^2}}dx=-5\\sqrt{4-x^2}-\\arcsin \\left(\\frac{1}{2}x\\right)=-5\\sqrt{4-x^2}-\\arcsin \\left(\\frac{1}{2}x\\right)+C$$\n",
        "<br>$$5.\\int \\frac{dx}{\\sqrt{x}\\left(1+\\sqrt{x}\\right)}=\\int \\frac{1}{\\sqrt{x}\\left(1+\\sqrt{x}\\right)}dx=\\int \\frac{2}{u}du=2\\cdot \\int \\frac{1}{u}du=2\\ln \\left|u\\right|=2\\ln \\left|1+\\sqrt{x}\\right|+C$$\n",
        "<br>$$6.\\int \\:x^2\\cos \\left(x\\right)dx=x^2\\sin \\left(x\\right)-\\int \\:2x\\sin \\left(x\\right)dx=x^2\\sin \\left(x\\right)-2\\left(-x\\cos \\left(x\\right)+\\sin \\left(x\\right)\\right)+C$$\n",
        "<br>$$7.\\int \\arctan \\left(x\\right)dx=x\\arctan \\left(x\\right)-\\int \\frac{x}{x^2+1}dx=x\\arctan \\left(x\\right)-\\frac{1}{2}\\ln \\left|x^2+1\\right|+C$$\n",
        "<br>$$8.\\int \\frac{dx}{\\left(x-1\\right)^5}=\\int \\frac{1}{\\left(x-1\\right)^5}dx=\\int \\frac{1}{u^5}du=-\\frac{1}{4u^4}=-\\frac{1}{4\\left(x-1\\right)^4}+C$$\n",
        "<br>$$9.\\int \\frac{\\left(x+6\\right)dx}{x^2-2x+17}=\\int \\frac{x+6}{x^2-2x+17}dx=\\int \\frac{x+6}{\\left(x-1\\right)^2+16}dx=\\int \\frac{u+7}{u^2+16}du=\\int \\frac{u}{u^2+16}du+\\int \\frac{7}{u^2+16}du=\\frac{1}{2}\\ln \\left|u^2+16\\right|+\\frac{7}{4}\\arctan \\left(\\frac{u}{4}\\right)=\\frac{1}{2}\\ln \\left|\\left(x-1\\right)^2+16\\right|+\\frac{7}{4}\\arctan \\left(\\frac{x-1}{4}\\right)=\\frac{1}{2}\\ln \\left|x^2-2x+17\\right|+\\frac{7}{4}\\arctan \\left(\\frac{1}{4}\\left(x-1\\right)\\right)+C$$\n",
        "<br>$$10.\\int \\frac{xdx}{\\left(x^2-1\\right)\\left(x^2+1\\right)}=\\int \\frac{x}{\\left(x^2-1\\right)\\left(x^2+1\\right)}dx=\\frac{1}{2}\\cdot \\int \\frac{1}{\\left(u-1\\right)\\left(u+1\\right)}du=\\frac{1}{2}\\cdot \\int \\frac{1}{u^2-1}du=\\frac{1}{2}\\cdot \\int \\frac{1}{-\\left(-u^2+1\\right)}du=\\frac{1}{2}\\left(-\\int \\frac{1}{-u^2+1}du\\right)=\\frac{1}{2}\\left(-\\left(\\frac{\\ln \\left|u+1\\right|}{2}-\\frac{\\ln \\left|u-1\\right|}{2}\\right)\\right)=\\frac{1}{2}\\left(-\\left(\\frac{\\ln \\left|x^2+1\\right|}{2}-\\frac{\\ln \\left|x^2-1\\right|}{2}\\right)\\right)=-\\frac{1}{4}\\left(\\ln \\left|x^2+1\\right|-\\ln \\left|x^2-1\\right|\\right)+C$$\n",
        "<br>$$11.\\int \\frac{\\sqrt[3]{xdx}}{\\sqrt[3]{x^2}-\\sqrt{x}}=\\int \\frac{\\sqrt[3]{x}}{\\sqrt[3]{x^2}-\\sqrt{x}}dx=\\int \\frac{6u^4}{u-1}du=6\\cdot \\int \\frac{u^4}{u-1}du=6\\cdot \\int \\:u^3+u^2+u+1+\\frac{1}{u-1}du=6\\left(\\int \\:u^3du+\\int \\:u^2du+\\int \\:udu+\\int \\:1du+\\int \\frac{1}{u-1}du\\right)=6\\left(\\frac{u^4}{4}+\\frac{u^3}{3}+\\frac{u^2}{2}+u+\\ln \\left|u-1\\right|\\right)=6\\left(\\frac{\\left(\\sqrt[6]{x}\\right)^4}{4}+\\frac{\\left(\\sqrt[6]{x}\\right)^3}{3}+\\frac{\\left(\\sqrt[6]{x}\\right)^2}{2}+\\sqrt[6]{x}+\\ln \\left|\\sqrt[6]{x}-1\\right|\\right)=6\\left(\\frac{1}{4}x^{\\frac{2}{3}}+\\frac{1}{3}\\sqrt{x}+\\frac{1}{2}\\sqrt[3]{x}+\\sqrt[6]{x}+\\ln \\left|\\sqrt[6]{x}-1\\right|\\right)+C$$\n",
        "<br>$$12.\\int \\sqrt[3]{x}\\sqrt[3]{1+3\\sqrt[3]{x^2}}dx=\\int \\frac{\\sqrt[3]{u}\\left(u-1\\right)}{6}du=\\frac{1}{6}\\cdot \\int \\sqrt[3]{u}\\left(u-1\\right)du=\\frac{1}{6}\\cdot \\int \\:u^{\\frac{4}{3}}-\\sqrt[3]{u}du=\\frac{1}{6}\\left(\\int \\:u^{\\frac{4}{3}}du-\\int \\sqrt[3]{u}du\\right)=\\frac{1}{6}\\left(\\frac{3}{7}u^{\\frac{7}{3}}-\\frac{3}{4}u^{\\frac{4}{3}}\\right)=\\frac{1}{6}\\left(\\frac{3}{7}\\left(1+3\\sqrt[3]{x^2}\\right)^{\\frac{7}{3}}-\\frac{3}{4}\\left(1+3\\sqrt[3]{x^2}\\right)^{\\frac{4}{3}}\\right)=\\frac{1}{56}\\left(4\\left(3x^{\\frac{2}{3}}+1\\right)^{\\frac{7}{3}}-7\\left(3x^{\\frac{2}{3}}+1\\right)^{\\frac{4}{3}}\\right)+C$$\n",
        "<br>$$13.\\int \\frac{dx}{sinx\\cdot \\:sin2x}=\\int \\frac{1}{\\sin \\left(x\\right)\\sin \\left(2x\\right)}dx=\\int \\frac{1}{2\\sin ^2\\left(x\\right)\\cos \\left(x\\right)}dx=\\frac{1}{2}\\cdot \\int \\frac{\\csc ^2\\left(x\\right)}{\\cos \\left(x\\right)}dx=\\frac{1}{2}\\left(-\\csc \\left(x\\right)-\\int \\:-\\sec \\left(x\\right)dx\\right)=\\frac{1}{2}\\left(-\\csc \\left(x\\right)-\\left(-\\ln \\left|\\tan \\left(x\\right)+\\sec \\left(x\\right)\\right|\\right)\\right)=\\frac{1}{2}\\left(-\\csc \\left(x\\right)+\\ln \\left|\\tan \\left(x\\right)+\\sec \\left(x\\right)\\right|\\right)+C$$\n",
        "<br>$$14.\\int \\cos \\left(5x\\right)\\cos \\left(3x\\right)dx=\\int \\frac{1}{2}\\left(\\cos \\left(8x\\right)+\\cos \\left(2x\\right)\\right)dx=\\frac{1}{2}\\cdot \\int \\cos \\left(8x\\right)+\\cos \\left(2x\\right)dx=\\frac{1}{2}\\left(\\int \\cos \\left(8x\\right)dx+\\int \\cos \\left(2x\\right)dx\\right)=\\frac{1}{2}\\left(\\frac{1}{8}\\sin \\left(8x\\right)+\\frac{1}{2}\\sin \\left(2x\\right)\\right)+C$$\n",
        "<br>$$15.\\int _0^{\\pi }\\:\\left(2x+sin2x\\right)dx=\\int _0^{2\\pi }\\left(u+\\sin \\left(u\\right)\\right)\\frac{1}{2}du=\\frac{1}{2}\\cdot \\int _0^{2\\pi }u+\\sin \\left(u\\right)du=\\frac{1}{2}\\left(\\int _0^{2\\pi }udu+\\int _0^{2\\pi }\\sin \\left(u\\right)du\\right)=\\frac{1}{2}\\left(2\\pi ^2+0\\right)=\\pi ^2$$\n",
        "<br>$$16.\\int _{\\frac{1}{2}}^1\\:\\sqrt{4x-2}=\\int _{\\frac{1}{2}}^1\\sqrt{4x-2}dx=\\int _0^2\\frac{\\sqrt{u}}{4}du=\\frac{1}{4}\\cdot \\int _0^2\\sqrt{u}du=\\frac{1}{4}\\left[\\frac{2}{3}u^{\\frac{3}{2}}\\right]_0^2=\\frac{1}{4}\\cdot \\frac{4\\sqrt{2}}{3}=\\frac{\\sqrt{2}}{3}$$\n",
        "<br>$$17.\\int _0^{\\infty \\:}e^{-4x}dx=0-\\left(-\\frac{1}{4}\\right)=\\frac{1}{4}$$\n",
        "<br>$$18.\\int _0^1\\ln \\left(x\\right)dx=\\left[x\\ln \\left(x\\right)-\\int \\:1dx\\right]_0^1=\\left[x\\ln \\left(x\\right)-x\\right]_0^1=-1$$"
      ],
      "metadata": {
        "id": "0E2eSDPzmAl7"
      }
    }
  ]
}