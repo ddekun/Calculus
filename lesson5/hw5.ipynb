{
  "nbformat": 4,
  "nbformat_minor": 0,
  "metadata": {
    "colab": {
      "provenance": [],
      "authorship_tag": "ABX9TyO9swCSQ8+sD5hPuFqTGF+5",
      "include_colab_link": true
    },
    "kernelspec": {
      "name": "python3",
      "display_name": "Python 3"
    },
    "language_info": {
      "name": "python"
    }
  },
  "cells": [
    {
      "cell_type": "markdown",
      "metadata": {
        "id": "view-in-github",
        "colab_type": "text"
      },
      "source": [
        "<a href=\"https://colab.research.google.com/github/ddekun/Calculus/blob/lesson5/lesson5/hw5.ipynb\" target=\"_parent\"><img src=\"https://colab.research.google.com/assets/colab-badge.svg\" alt=\"Open In Colab\"/></a>"
      ]
    },
    {
      "cell_type": "markdown",
      "source": [
        "# Урок 5. Предел функции. Часть 2\n",
        "Задания к занятию №5"
      ],
      "metadata": {
        "id": "7XxnLc1E4C3K"
      }
    },
    {
      "cell_type": "code",
      "source": [
        "import numpy as np\n",
        "import matplotlib.pyplot as plt\n",
        "import math"
      ],
      "metadata": {
        "id": "_minGZIJPOV4"
      },
      "execution_count": 2,
      "outputs": []
    },
    {
      "cell_type": "markdown",
      "source": [
        "### 1. Найти пределы\n",
        "$$1)\\,\\,\\lim_{x\\to \\infty}{[ln(x+3)-ln\\,x]}=\\lim_{x\\to \\infty}(ln(\\frac{x+3}{x}))= 0$$"
      ],
      "metadata": {
        "id": "TH14p42u4Mor"
      }
    },
    {
      "cell_type": "markdown",
      "source": [
        "$$2)\\,\\,\\lim_{x\\to0}\\frac{ln(1+2x)}{arcsin\\ 3x}=\\Bigl(\\frac{0}{0}\\Bigr)=\\lim_{x\\to0}\\frac{\\frac{2}{1+2x}}{\\frac{3}{\\sqrt{1-9x^2}}}=\\frac{2}{3}$$"
      ],
      "metadata": {
        "id": "HV1KnEW06SFF"
      }
    },
    {
      "cell_type": "markdown",
      "source": [
        "$$3)\\lim _{a\\to \\:0}\\left(\\frac{\\left(x+a\\right)^3-x^3}{a}\\right)=\\Bigl(\\frac{0}{0}\\Bigr)=\\lim _{a\\to \\:0}\\left(3x^2+3ax+a^2\\right)=3x^2+3\\cdot \\:0\\cdot \\:x+0^2=3x^2$$"
      ],
      "metadata": {
        "id": "5qJFzqfL9FCd"
      }
    },
    {
      "cell_type": "markdown",
      "source": [
        "$$4)\\,\\,\\lim _{x\\to \\:0}\\left(\\frac{1-\\cos \\left(4x\\right)}{2x\\tan \\left(2x\\right)}\\right)=\\frac{1}{2}\\cdot \\lim _{x\\to \\:0}\\left(\\frac{1-\\cos \\left(4x\\right)}{x\\tan \\left(2x\\right)}\\right)=\\frac{1}{2}\\cdot\\lim _{x\\to \\:0}\\left(\\frac{4\\sin \\left(4x\\right)}{\\tan \\left(2x\\right)+2x\\sec ^2\\left(2x\\right)}\\right)=\\frac{1}{2}\\cdot\\lim _{x\\to \\:0}\\left(\\frac{16\\cos \\left(4x\\right)}{4\\sec ^2\\left(2x\\right)+8x\\sec ^2\\left(2x\\right)\\tan \\left(2x\\right)}\\right)=\\frac{1}{2}\\cdot \\frac{16\\cos \\left(4\\cdot \\:0\\right)}{4\\sec ^2\\left(2\\cdot \\:0\\right)+8\\cdot \\:0\\cdot \\sec ^2\\left(2\\cdot \\:0\\right)\\tan \\left(2\\cdot \\:0\\right)}=2$$"
      ],
      "metadata": {
        "id": "4u-SNJ-k-axy"
      }
    },
    {
      "cell_type": "markdown",
      "source": [
        "$$5)\\,\\,\\lim _{x\\to \\infty \\:}\\left(x\\sin \\left(\\frac{2}{x}\\right)\\right)=\\lim _{x\\to \\infty \\:}\\left(\\frac{\\sin \\left(\\frac{2}{x}\\right)}{\\frac{1}{x}}\\right)=\\lim _{x\\to \\infty \\:}\\left(\\frac{-\\frac{2\\cos \\left(\\frac{2}{x}\\right)}{x^2}}{-\\frac{1}{x^2}}\\right)=\\lim _{x\\to \\infty \\:}\\left(2\\cos \\left(\\frac{2}{x}\\right)\\right)=2\\cdot \\lim _{x\\to \\infty \\:}\\left(\\cos \\left(\\frac{2}{x}\\right)\\right)=2$$"
      ],
      "metadata": {
        "id": "KISQRcutELxP"
      }
    },
    {
      "cell_type": "markdown",
      "source": [
        "$$6)\\,\\,\\lim _{x\\to \\:0}\\left(\\left(1+\\tan \\left(x\\right)\\right)^{\\cot \\left(x\\right)}\\right)=\\lim _{x\\to \\:0}\\left(e^{\\cot \\left(x\\right)\\ln \\left(1+\\tan \\left(x\\right)\\right)}\\right)=e$$"
      ],
      "metadata": {
        "id": "KhUiIwwhFVZ4"
      }
    },
    {
      "cell_type": "markdown",
      "source": [
        "$$7)\\,\\,\\lim _{x\\to \\:0}\\left(\\frac{\\sqrt{1+x\\sin \\left(x\\right)}-1}{x^2}\\right)=\\lim _{x\\to \\:0}\\left(\\frac{\\frac{x\\cos \\left(x\\right)+\\sin \\left(x\\right)}{2\\sqrt{x\\sin \\left(x\\right)+1}}}{2x}\\right)=\\lim _{x\\to \\:0}\\left(\\frac{x\\cos \\left(x\\right)+\\sin \\left(x\\right)}{4x\\sqrt{x\\sin \\left(x\\right)+1}}\\right)\\lim _{x\\to \\:0}\\left(\\frac{-x\\sin \\left(x\\right)+2\\cos \\left(x\\right)}{\\frac{2\\left(x^2\\cos \\left(x\\right)+3x\\sin \\left(x\\right)+2\\right)}{\\sqrt{x\\sin \\left(x\\right)+1}}}\\right)=\\frac{-0\\cdot \\sin \\left(0\\right)+2\\cos \\left(0\\right)}{\\frac{2\\left(0^2\\cos \\left(0\\right)+3\\cdot \\:0\\cdot \\sin \\left(0\\right)+2\\right)}{\\sqrt{0\\cdot \\sin \\left(0\\right)+1}}}=\\frac{1}{2}$$"
      ],
      "metadata": {
        "id": "PIzDaUFiF0zv"
      }
    },
    {
      "cell_type": "markdown",
      "source": [
        "### 2. Установить характер разрыва функции в точке x0:\n",
        "$$1)f(x)=\\frac{x^2−16}{x+4}, x0 = −4;$$"
      ],
      "metadata": {
        "id": "dOxfb93PG4Lt"
      }
    },
    {
      "cell_type": "code",
      "source": [
        "x = np.linspace(-40, 40, 10000)\n",
        "y = (x**2 - 16)/(x + 4)\n",
        "plt.figure(1)\n",
        "plt.title('График функции y = (x**2 - 16)/(x + 4)')\n",
        "plt.ylabel('Ось y')\n",
        "plt.xlabel('Ось x')\n",
        "plt.grid()\n",
        "plt.axis([-20, 20, -20, 20]) \n",
        "plt.plot(x, y)\n",
        "plt.show()"
      ],
      "metadata": {
        "colab": {
          "base_uri": "https://localhost:8080/",
          "height": 295
        },
        "id": "JGWfbVL6O2s9",
        "outputId": "6ee586a8-3637-4d42-8ad1-3c04b4cb04eb"
      },
      "execution_count": 8,
      "outputs": [
        {
          "output_type": "display_data",
          "data": {
            "text/plain": [
              "<Figure size 432x288 with 1 Axes>"
            ],
            "image/png": "[encoded data removed]"
          },
          "metadata": {
            "needs_background": "light"
          }
        }
      ]
    },
    {
      "cell_type": "markdown",
      "source": [
        "**Установить характер разрыва функции в точке x0 не возможно, так как функция неразрывна.**"
      ],
      "metadata": {
        "id": "VhyraoRDQpxu"
      }
    },
    {
      "cell_type": "markdown",
      "source": [
        "$$2)f(x)=\\frac{sinx}{x}, x0 = 0;$$"
      ],
      "metadata": {
        "id": "z7oC9jVZR-Ez"
      }
    },
    {
      "cell_type": "code",
      "source": [
        "x = np.linspace(-40, 40, 10000)\n",
        "y = (np.sin(x))/x\n",
        "plt.figure(1)\n",
        "plt.title('График функции y = (sin(x))/x')\n",
        "plt.ylabel('Ось y')\n",
        "plt.xlabel('Ось x')\n",
        "plt.grid()\n",
        "plt.axis([-10, 10, -5, 5]) \n",
        "plt.plot(x, y)\n",
        "plt.show()"
      ],
      "metadata": {
        "colab": {
          "base_uri": "https://localhost:8080/",
          "height": 295
        },
        "id": "JBWN5Xd1P94g",
        "outputId": "e30253d7-7bcd-4e53-d37e-2bbdc08aed0d"
      },
      "execution_count": 23,
      "outputs": [
        {
          "output_type": "display_data",
          "data": {
            "text/plain": [
              "<Figure size 432x288 with 1 Axes>"
            ],
            "image/png": "[encoded data removed]"
          },
          "metadata": {
            "needs_background": "light"
          }
        }
      ]
    },
    {
      "cell_type": "markdown",
      "source": [
        "**Установить характер разрыва функции в точке x0 не возможно, так как функция неразрывна.**"
      ],
      "metadata": {
        "id": "-0YsUTyzHZAc"
      }
    },
    {
      "cell_type": "markdown",
      "source": [
        "### 3. Исследовать на непрерывность функцию f(x) в точке\n",
        "x0:"
      ],
      "metadata": {
        "id": "SkVddgAPRuAc"
      }
    },
    {
      "cell_type": "markdown",
      "source": [
        "$$1)f(x)=arctg\\,\\frac{2}{x-1},\\,\\:x_{(0)}=1;$$"
      ],
      "metadata": {
        "id": "ZEsYbL20SL1Y"
      }
    },
    {
      "cell_type": "code",
      "source": [
        "x = np.linspace(-40, 40, 10000)\n",
        "y = np.arctan(2/(x-1))\n",
        "plt.figure(1)\n",
        "plt.title('График функции y = arctan(2/(x-1))')\n",
        "plt.ylabel('Ось y')\n",
        "plt.xlabel('Ось x')\n",
        "plt.grid()\n",
        "plt.axis([-2, 5, -5, 5]) \n",
        "plt.plot(x, y)\n",
        "plt.show()"
      ],
      "metadata": {
        "colab": {
          "base_uri": "https://localhost:8080/",
          "height": 295
        },
        "id": "dx93fRbOR2q9",
        "outputId": "c90c06da-492d-45ef-ca23-247be3d83010"
      },
      "execution_count": 22,
      "outputs": [
        {
          "output_type": "display_data",
          "data": {
            "text/plain": [
              "<Figure size 432x288 with 1 Axes>"
            ],
            "image/png": "[encoded data removed]"
          },
          "metadata": {
            "needs_background": "light"
          }
        }
      ]
    },
    {
      "cell_type": "markdown",
      "source": [
        "Функция f(x) в точке $x_0$, имеет точку разрыва 1 рода."
      ],
      "metadata": {
        "id": "-6HKdkLRVYFr"
      }
    },
    {
      "cell_type": "markdown",
      "source": [
        "$$2)f(x)=\\frac{1}{2^{x-3}-1},\\,\\:x_{(0)}=3;$$"
      ],
      "metadata": {
        "id": "X25lymQzT3JZ"
      }
    },
    {
      "cell_type": "code",
      "source": [
        "x = np.linspace(-40, 40, 10000)\n",
        "y = 1/(2**(x-3)-1)\n",
        "plt.figure(1)\n",
        "plt.title('График функции y = arctan(2/(x-1))')\n",
        "plt.ylabel('Ось y')\n",
        "plt.xlabel('Ось x')\n",
        "plt.grid()\n",
        "plt.axis([-2, 5, -5, 5]) \n",
        "plt.plot(x, y)\n",
        "plt.show()"
      ],
      "metadata": {
        "colab": {
          "base_uri": "https://localhost:8080/",
          "height": 295
        },
        "id": "qzeBOIGzUbvK",
        "outputId": "0605be01-d341-457b-bc95-aca511628019"
      },
      "execution_count": 25,
      "outputs": [
        {
          "output_type": "display_data",
          "data": {
            "text/plain": [
              "<Figure size 432x288 with 1 Axes>"
            ],
            "image/png": "[encoded data removed]"
          },
          "metadata": {
            "needs_background": "light"
          }
        }
      ]
    },
    {
      "cell_type": "markdown",
      "source": [
        "Функция f(x) в точке $x_0$, имеет точку разрыва 2 рода."
      ],
      "metadata": {
        "id": "MOhzuhvDV63Y"
      }
    }
  ]
}