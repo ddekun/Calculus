{
  "nbformat": 4,
  "nbformat_minor": 0,
  "metadata": {
    "colab": {
      "provenance": [],
      "collapsed_sections": [],
      "authorship_tag": "ABX9TyN4hcy3D0bvBqZfBj5hZ85Y",
      "include_colab_link": true
    },
    "kernelspec": {
      "name": "python3",
      "display_name": "Python 3"
    },
    "language_info": {
      "name": "python"
    }
  },
  "cells": [
    {
      "cell_type": "markdown",
      "metadata": {
        "id": "view-in-github",
        "colab_type": "text"
      },
      "source": [
        "<a href=\"https://colab.research.google.com/github/ddekun/Calculus/blob/lesson3/lesson3/hw3.ipynb\" target=\"_parent\"><img src=\"https://colab.research.google.com/assets/colab-badge.svg\" alt=\"Open In Colab\"/></a>"
      ]
    },
    {
      "cell_type": "markdown",
      "source": [
        "# Введение в математический анализ\n",
        "Практическое задание 3. Множество. Последовательность. Часть 2"
      ],
      "metadata": {
        "id": "fmQWTZeddnyr"
      }
    },
    {
      "cell_type": "markdown",
      "source": [
        "### 1) Найти пределы:\n",
        "$$а)\\,\\,\\,\\,\\lim_{n\\to \\infty} \\frac{10n}{n^2+1},\\,\\,\\,\\,б)\\,\\,\\,\\,\\lim_{n\\to \\infty} \\frac{n^2-n}{n-\\sqrt{n}},\\,\\,\\,\\,*в)\\,\\,\\,\\,\\lim_{n\\to \\infty} \\frac{5\\cdot3^n}{3^n-2}*$$"
      ],
      "metadata": {
        "id": "EpoSH-jgd7J2"
      }
    },
    {
      "cell_type": "markdown",
      "source": [
        "$$а)\\,\\,\\,\\,\\lim_{n\\to \\infty} \\frac{10n}{n^2+1}=\\Bigl(\\frac{\\infty}{\\infty}\\Bigr)=\\frac{0}{1}= 0$$"
      ],
      "metadata": {
        "id": "-Sduoar-e3Cp"
      }
    },
    {
      "cell_type": "markdown",
      "source": [
        "$$б)\\,\\,\\,\\,\\lim_{n\\to \\infty} \\frac{n^2-n}{n-\\sqrt{n}}=\\Bigl(\\frac{\\infty}{\\infty}\\Bigr)=\\frac{1}{0}=\\infty$$"
      ],
      "metadata": {
        "id": "dAQputOdhUd3"
      }
    },
    {
      "cell_type": "markdown",
      "source": [
        "$$в)\\,\\,\\,\\,\\lim_{n\\to \\infty} \\frac{5\\cdot3^n}{3^n-2}=\\Bigl(\\frac{\\infty}{\\infty}\\Bigr)=\\frac{5}{1}=5$$"
      ],
      "metadata": {
        "id": "Onmfzh8qk8ch"
      }
    },
    {
      "cell_type": "markdown",
      "source": [
        "### 2) Найти предел $$\\lim_{n\\to \\infty} (\\sqrt{n^2+n}-n)=\\Bigl(\\infty-\\infty\\Bigr)=\\lim_{n\\to \\infty} (\\sqrt{n^2+n}-n)\\cdot\\frac{\\sqrt{n^2+n}+n}{\\sqrt{n^2+n}+n}=\\lim_{n\\to \\infty} \\frac{n^2+n-n^2}{\\sqrt{n^2+n}+n}=\\lim_{n\\to \\infty} \\frac{n}{\\sqrt{n^2+1}+n}=\\lim_{n\\to \\infty} \\frac{1}{\\frac{\\sqrt{n^2+1}}n+1}=0$$"
      ],
      "metadata": {
        "id": "5AeLOt6alnZN"
      }
    },
    {
      "cell_type": "markdown",
      "source": [
        "### 3) Вычислить $$\\lim_{n\\to \\infty} \\frac{\\sqrt{n}\\ cos\\ n}{n\n",
        "+1}=\\lim_{n\\to \\infty} \\frac{\\sqrt{n}\\cdot1}{n\n",
        "+1}=\\lim_{n\\to \\infty} \\frac{\\sqrt{n}\\cdot-1}{n\n",
        "+1}=0$$"
      ],
      "metadata": {
        "id": "BbLiCs0PoYRE"
      }
    }
  ]
}