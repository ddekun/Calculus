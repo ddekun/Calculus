{
  "nbformat": 4,
  "nbformat_minor": 0,
  "metadata": {
    "colab": {
      "provenance": [],
      "authorship_tag": "ABX9TyM1Mj7TyTsjt0Hr0kloRZ1Z",
      "include_colab_link": true
    },
    "kernelspec": {
      "name": "python3",
      "display_name": "Python 3"
    },
    "language_info": {
      "name": "python"
    }
  },
  "cells": [
    {
      "cell_type": "markdown",
      "metadata": {
        "id": "view-in-github",
        "colab_type": "text"
      },
      "source": [
        "<a href=\"https://colab.research.google.com/github/ddekun/Calculus/blob/lesson6/lesson6/hw6.ipynb\" target=\"_parent\"><img src=\"https://colab.research.google.com/assets/colab-badge.svg\" alt=\"Open In Colab\"/></a>"
      ]
    },
    {
      "cell_type": "markdown",
      "source": [
        "# Введение в математический анализ"
      ],
      "metadata": {
        "id": "4Exc4K4d7Opv"
      }
    },
    {
      "cell_type": "markdown",
      "source": [
        "Задания к уроку №6\n",
        "\n",
        "1) Найти производные указанных функций:\n",
        "\n",
        "$$1)\\,\\,\\,y = −10 arctg x + 7 · e^x=-\\frac{10}{x^2+1}+7e^x$$\n",
        "\n",
        "$$2)\\,\\,\\,y =\\frac{1}{\\sqrt[3]{x^2}}-\\frac{2}{x^3}+\\sqrt{7}\\cdot x= \\frac{6}{x^4}-\\frac{2}{3x^{\\frac{5}{3}}}+\\sqrt{7}$$\n",
        "\n",
        "$$3)\\,\\,\\,y =cos\\frac{1-\\sqrt{x}}{1+\\sqrt{x}}=-\\sin \\left(\\frac{1-\\sqrt{x}}{1+\\sqrt{x}}\\right)\\left(\\frac{1-\\sqrt{x}}{1+\\sqrt{x}}\\right)=-\\sin \\left(\\frac{1-\\sqrt{x}}{1+\\sqrt{x}}\\right)\\left(-\\frac{1}{\\sqrt{x}\\left(\\sqrt{x}+1\\right)^2}\\right)=\\frac{\\sin \\left(\\frac{1-\\sqrt{x}}{1+\\sqrt{x}}\\right)}{\\sqrt{x}\\left(\\sqrt{x}+1\\right)^2}$$\n",
        "\n",
        "$$4)\\,\\,\\,y=ln\\frac{\\left(x+1\\right)\\left(x+3\\right)^3}{\\left(x+2\\right)^3\\left(x+4\\right)}=\\frac{1}{\\frac{\\left(x+1\\right)\\left(x+3\\right)^3}{\\left(x+2\\right)^3\\left(x+4\\right)}}\\frac{d}{dx}\\left(\\frac{\\left(x+1\\right)\\left(x+3\\right)^3}{\\left(x+2\\right)^3\\left(x+4\\right)}\\right)=\\frac{1}{\\frac{\\left(x+1\\right)\\left(x+3\\right)^3}{\\left(x+2\\right)^3\\left(x+4\\right)}}\\cdot \\frac{6\\left(x+3\\right)^2}{\\left(x+2\\right)^4\\left(x+4\\right)^2}=\\frac{6}{\\left(x+1\\right)\\left(x+3\\right)\\left(x+2\\right)\\left(x+4\\right)}$$\n"
      ],
      "metadata": {
        "id": "ALK6s6x_dURw"
      }
    },
    {
      "cell_type": "markdown",
      "source": [
        "2) Найти производную данной функции в точке:\n",
        "\n",
        "$$y=\\frac{lnx}{x}, x_{\\left(0\\right)}=e$$\n"
      ],
      "metadata": {
        "id": "JdIW7bCL04b3"
      }
    },
    {
      "cell_type": "markdown",
      "source": [
        "3) Используя логарифмическую производную, найти производную функции\n",
        "$$y=x^{ln\\:x}=e^{\\ln \\left(x\\right)\\ln \\left(x\\right)}=e^{\\ln \\left(x\\right)\\ln \\left(x\\right)}\\left(\\ln \\left(x\\right)\\ln \\left(x\\right)\\right)=e^{\\ln \\left(x\\right)\\ln \\left(x\\right)}\\frac{2\\ln \\left(x\\right)}{x}=\\frac{2e^{\\ln ^2\\left(x\\right)}\\ln \\left(x\\right)}{x}$$"
      ],
      "metadata": {
        "id": "SFGWiDHJ3VaO"
      }
    },
    {
      "cell_type": "markdown",
      "source": [
        "4) Найти производную неявно заданной функции:\n",
        "\n",
        "$$e^{xy}-cos\\left(x^2+y^2\\right)=0$$\n",
        "\n",
        "$$\\frac{dy}{dx}=-\\frac{e^{xy}y+2x\\sin \\left(x^2+y^2\\right)}{e^{xy}x+2y\\sin \\left(x^2+y^2\\right)}$$"
      ],
      "metadata": {
        "id": "ZTjqSVKF4FK-"
      }
    },
    {
      "cell_type": "markdown",
      "source": [
        "5) Найти производную параметрически заданной функции:\n",
        "\n",
        "$$x=t^3+t,\\:y=t^3+t+1$$"
      ],
      "metadata": {
        "id": "5yPALno25t0x"
      }
    }
  ]
}